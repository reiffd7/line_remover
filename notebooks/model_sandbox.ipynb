{
 "cells": [
  {
   "cell_type": "code",
   "execution_count": 1,
   "metadata": {},
   "outputs": [],
   "source": [
    "from skimage import io, color, filters, feature, restoration\n",
    "from skimage.transform import resize, rotate\n",
    "import matplotlib.pyplot as plt\n",
    "from PIL import Image\n",
    "import glob\n",
    "from scipy.misc import imread\n",
    "import numpy as np"
   ]
  },
  {
   "cell_type": "code",
   "execution_count": 2,
   "metadata": {},
   "outputs": [],
   "source": [
    "import sys\n",
    "sys.path.append(\"..\")"
   ]
  },
  {
   "cell_type": "code",
   "execution_count": 46,
   "metadata": {},
   "outputs": [
    {
     "name": "stdout",
     "output_type": "stream",
     "text": [
      "Collecting pillow\n",
      "\u001b[?25l  Downloading https://files.pythonhosted.org/packages/a8/34/086feba718f629fc51f27f993fa72e210c1c25077cba2f9e9a2dcfa23a7f/Pillow-6.2.0-cp35-cp35m-manylinux1_x86_64.whl (2.1MB)\n",
      "\u001b[K    100% |████████████████████████████████| 2.1MB 6.3MB/s ta 0:00:01    75% |████████████████████████        | 1.6MB 5.8MB/s eta 0:00:01    98% |███████████████████████████████▋| 2.1MB 2.9MB/s eta 0:00:01\n",
      "\u001b[?25hInstalling collected packages: pillow\n",
      "Successfully installed pillow-6.2.0\n",
      "\u001b[33mYou are using pip version 19.0.3, however version 19.3 is available.\n",
      "You should consider upgrading via the 'pip install --upgrade pip' command.\u001b[0m\n"
     ]
    }
   ],
   "source": [
    "!pip install --no-cache-dir -I pillow"
   ]
  },
  {
   "cell_type": "code",
   "execution_count": 3,
   "metadata": {},
   "outputs": [],
   "source": [
    "from src.CNN import imageCNN\n",
    "from src.standardizer import standardizer"
   ]
  },
  {
   "cell_type": "code",
   "execution_count": 4,
   "metadata": {},
   "outputs": [],
   "source": [
    "ruled = glob.glob('../Sketches/Ruled/*')"
   ]
  },
  {
   "cell_type": "code",
   "execution_count": 5,
   "metadata": {},
   "outputs": [],
   "source": [
    "im = Image.open(ruled[0])\n"
   ]
  },
  {
   "cell_type": "code",
   "execution_count": 6,
   "metadata": {},
   "outputs": [],
   "source": [
    "images = standardizer(ruled)"
   ]
  },
  {
   "cell_type": "code",
   "execution_count": 7,
   "metadata": {},
   "outputs": [],
   "source": [
    "images.greyscale(60)"
   ]
  },
  {
   "cell_type": "code",
   "execution_count": 11,
   "metadata": {},
   "outputs": [
    {
     "data": {
      "text/plain": [
       "array([[0.796, 0.796, 0.812, ..., 0.8  , 0.8  , 0.792],\n",
       "       [0.816, 0.8  , 0.812, ..., 0.82 , 0.824, 0.824],\n",
       "       [0.88 , 0.848, 0.836, ..., 0.828, 0.824, 0.82 ],\n",
       "       ...,\n",
       "       [0.844, 0.86 , 0.872, ..., 0.84 , 0.848, 0.86 ],\n",
       "       [0.832, 0.848, 0.856, ..., 0.836, 0.848, 0.86 ],\n",
       "       [0.84 , 0.836, 0.832, ..., 0.804, 0.816, 0.812]])"
      ]
     },
     "execution_count": 11,
     "metadata": {},
     "output_type": "execute_result"
    }
   ],
   "source": [
    "image = images.greyscale_image_list[0]\n",
    "standardized_image = (image - np.min(image))/(np.max(image) - np.min(image))\n",
    "standardized_image"
   ]
  },
  {
   "cell_type": "code",
   "execution_count": null,
   "metadata": {},
   "outputs": [],
   "source": [
    "images.standardize()"
   ]
  },
  {
   "cell_type": "code",
   "execution_count": null,
   "metadata": {},
   "outputs": [],
   "source": [
    "images = standardizer(ruled)\n",
    "images.greyscale(60)\n",
    "images.standardize()\n",
    "images.binarize(0.7)"
   ]
  }
 ],
 "metadata": {
  "kernelspec": {
   "display_name": "Python 3",
   "language": "python",
   "name": "python3"
  },
  "language_info": {
   "codemirror_mode": {
    "name": "ipython",
    "version": 3
   },
   "file_extension": ".py",
   "mimetype": "text/x-python",
   "name": "python",
   "nbconvert_exporter": "python",
   "pygments_lexer": "ipython3",
   "version": "3.5.2"
  }
 },
 "nbformat": 4,
 "nbformat_minor": 2
}
